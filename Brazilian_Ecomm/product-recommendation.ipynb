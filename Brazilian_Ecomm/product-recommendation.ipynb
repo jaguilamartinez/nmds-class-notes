{
 "cells": [
  {
   "cell_type": "markdown",
   "metadata": {},
   "source": [
    "# Brazilian eCommerce Dataset - Product Recommendation"
   ]
  },
  {
   "cell_type": "markdown",
   "metadata": {},
   "source": [
    "## Olist's Business Model\n",
    "\n",
    "**[Olist](http://www.olist.com/)** is a **Brazilian** departmental store (*marketplace*) that **operates in e-commerce segment, but is not an e-commerce itself** (*as she says*). It operates as a SaaS (*Software as a Service*) technology company since 2015. It offers a marketplace solution (*of e-commerce segment*) to shopkeepers of all sizes (*and for most segments*) to increase their sales whether they have online presence or not. \n",
    "\n",
    "## Olist's Solution\n",
    "\n",
    "Olist's solution consists of three aspects: Software, Contracts with the main marketplaces and Reputation sharing. The diagram below shows how Olist links marketplaces, consumers (*Portuguese: consumidores*), and retailers (*Portuguese: varejistas*)\n",
    "\n",
    "![Olist’s marketplace model](https://olist.com/wp-content/uploads/2018/04/Group-40.svg)\n",
    "\n",
    "## What Olist says?\n",
    "\n",
    "Olist says she... \n",
    "\n",
    "1. ... is a large department store within marketplaces.\n",
    "2. ... is connected to the main e-commerces of Brazil.\n",
    "3. ... does not buy products. \n",
    "4. ... does not keep products in stock.\n",
    "5. ... does not carry out shipping of any products offered in its store. \n",
    "6. All products are sold and shipped by the thousands of shopkeepers (**registered on Olist***) who sell through Olist.\n",
    "7. Her strength lies in union of all participating shopkeepers, who are selling physical products. \n",
    "8. Participant shopkeeper is responsible for separating, packing, and taking products to the logistics operator.\n",
    "\n"
   ]
  },
  {
   "cell_type": "markdown",
   "metadata": {},
   "source": [
    "## Data Model\n",
    "\n",
    "On Kaggle, she shared its data of 100k orders from 2016 to 2018. There are 8+1 datasets to play with and explore. The data model has been described in image below and it is organised and normalised for each category.\n",
    "\n",
    "![Data Model](https://i.imgur.com/HRhd2Y0.png) "
   ]
  },
  {
   "cell_type": "markdown",
   "metadata": {},
   "source": [
    "## Import libraries"
   ]
  },
  {
   "cell_type": "markdown",
   "metadata": {},
   "source": [
    "#### Base Libraries"
   ]
  },
  {
   "cell_type": "code",
   "execution_count": 1,
   "metadata": {},
   "outputs": [],
   "source": [
    "import sys \n",
    "\n",
    "import os \n",
    "import random\n",
    "\n",
    "import numpy as np \n",
    "import pandas as pd \n",
    "\n",
    "from scipy import stats\n",
    "\n",
    "import matplotlib.pyplot as plt\n",
    "import seaborn as sns\n",
    "\n",
    "pd.options.display.max_rows = 999\n",
    "\n",
    "plt.style.use('ggplot')"
   ]
  },
  {
   "cell_type": "markdown",
   "metadata": {},
   "source": [
    "#### scikit-learn Libraries"
   ]
  },
  {
   "cell_type": "code",
   "execution_count": 2,
   "metadata": {},
   "outputs": [],
   "source": [
    "from sklearn.pipeline import Pipeline\n",
    "from sklearn.preprocessing import StandardScaler, MinMaxScaler\n",
    "from sklearn.cluster import KMeans"
   ]
  },
  {
   "cell_type": "markdown",
   "metadata": {},
   "source": [
    "## Importing Data"
   ]
  },
  {
   "cell_type": "markdown",
   "metadata": {},
   "source": [
    "#### File Directory"
   ]
  },
  {
   "cell_type": "code",
   "execution_count": 3,
   "metadata": {},
   "outputs": [],
   "source": [
    "file_dir = '/Users/juan/Desktop/eCommerce/data/'"
   ]
  },
  {
   "cell_type": "markdown",
   "metadata": {},
   "source": [
    "El modelo de datos está compuesto por 8 Datasets, de los cuáles nos interesa trabajar con 6 (no utilizaremos la visión de los comercios). \n",
    "\n",
    "En concreto, para realizar la segmentación de clientes usaremos *Customers*, *Orders* y *Payments*"
   ]
  },
  {
   "cell_type": "markdown",
   "metadata": {},
   "source": [
    "#### Customers Dataset"
   ]
  },
  {
   "cell_type": "code",
   "execution_count": 4,
   "metadata": {},
   "outputs": [],
   "source": [
    "customers_ = pd.read_csv(file_dir + 'olist_customers_dataset.csv')"
   ]
  },
  {
   "cell_type": "code",
   "execution_count": 5,
   "metadata": {},
   "outputs": [
    {
     "output_type": "stream",
     "name": "stdout",
     "text": "<class 'pandas.core.frame.DataFrame'>\nRangeIndex: 99441 entries, 0 to 99440\nColumns: 5 entries, customer_id to customer_state\ndtypes: int64(1), object(4)\nmemory usage: 3.8+ MB\n"
    }
   ],
   "source": [
    "customers_.info(verbose=False)"
   ]
  },
  {
   "cell_type": "code",
   "execution_count": 6,
   "metadata": {},
   "outputs": [
    {
     "output_type": "execute_result",
     "data": {
      "text/plain": "                                                         0  \\\ncustomer_id               06b8999e2fba1a1fbc88172c00ba8bc7   \ncustomer_unique_id        861eff4711a542e4b93843c6dd7febb0   \ncustomer_zip_code_prefix                             14409   \ncustomer_city                                       franca   \ncustomer_state                                          SP   \n\n                                                         1  \\\ncustomer_id               18955e83d337fd6b2def6b18a428ac77   \ncustomer_unique_id        290c77bc529b7ac935b93aa66c333dc3   \ncustomer_zip_code_prefix                              9790   \ncustomer_city                        sao bernardo do campo   \ncustomer_state                                          SP   \n\n                                                         2  \ncustomer_id               4e7b3e00288586ebd08712fdd0374a03  \ncustomer_unique_id        060e732b5b29e8181a18229c7b0b2b5e  \ncustomer_zip_code_prefix                              1151  \ncustomer_city                                    sao paulo  \ncustomer_state                                          SP  ",
      "text/html": "<div>\n<style scoped>\n    .dataframe tbody tr th:only-of-type {\n        vertical-align: middle;\n    }\n\n    .dataframe tbody tr th {\n        vertical-align: top;\n    }\n\n    .dataframe thead th {\n        text-align: right;\n    }\n</style>\n<table border=\"1\" class=\"dataframe\">\n  <thead>\n    <tr style=\"text-align: right;\">\n      <th></th>\n      <th>0</th>\n      <th>1</th>\n      <th>2</th>\n    </tr>\n  </thead>\n  <tbody>\n    <tr>\n      <td>customer_id</td>\n      <td>06b8999e2fba1a1fbc88172c00ba8bc7</td>\n      <td>18955e83d337fd6b2def6b18a428ac77</td>\n      <td>4e7b3e00288586ebd08712fdd0374a03</td>\n    </tr>\n    <tr>\n      <td>customer_unique_id</td>\n      <td>861eff4711a542e4b93843c6dd7febb0</td>\n      <td>290c77bc529b7ac935b93aa66c333dc3</td>\n      <td>060e732b5b29e8181a18229c7b0b2b5e</td>\n    </tr>\n    <tr>\n      <td>customer_zip_code_prefix</td>\n      <td>14409</td>\n      <td>9790</td>\n      <td>1151</td>\n    </tr>\n    <tr>\n      <td>customer_city</td>\n      <td>franca</td>\n      <td>sao bernardo do campo</td>\n      <td>sao paulo</td>\n    </tr>\n    <tr>\n      <td>customer_state</td>\n      <td>SP</td>\n      <td>SP</td>\n      <td>SP</td>\n    </tr>\n  </tbody>\n</table>\n</div>"
     },
     "metadata": {},
     "execution_count": 6
    }
   ],
   "source": [
    "customers_.head(3).T"
   ]
  },
  {
   "cell_type": "markdown",
   "metadata": {},
   "source": [
    "#### Orders Dataset"
   ]
  },
  {
   "cell_type": "code",
   "execution_count": 7,
   "metadata": {},
   "outputs": [],
   "source": [
    "orders_ = pd.read_csv(file_dir + 'olist_orders_dataset.csv')"
   ]
  },
  {
   "cell_type": "code",
   "execution_count": 8,
   "metadata": {},
   "outputs": [
    {
     "output_type": "stream",
     "name": "stdout",
     "text": "<class 'pandas.core.frame.DataFrame'>\nRangeIndex: 99441 entries, 0 to 99440\nColumns: 8 entries, order_id to order_estimated_delivery_date\ndtypes: object(8)\nmemory usage: 6.1+ MB\n"
    }
   ],
   "source": [
    "orders_.info(verbose=False)"
   ]
  },
  {
   "cell_type": "code",
   "execution_count": 9,
   "metadata": {},
   "outputs": [
    {
     "output_type": "execute_result",
     "data": {
      "text/plain": "                                                              0  \\\norder_id                       e481f51cbdc54678b7cc49136f2d6af7   \ncustomer_id                    9ef432eb6251297304e76186b10a928d   \norder_status                                          delivered   \norder_purchase_timestamp                    2017-10-02 10:56:33   \norder_approved_at                           2017-10-02 11:07:15   \norder_delivered_carrier_date                2017-10-04 19:55:00   \norder_delivered_customer_date               2017-10-10 21:25:13   \norder_estimated_delivery_date               2017-10-18 00:00:00   \n\n                                                              1  \\\norder_id                       53cdb2fc8bc7dce0b6741e2150273451   \ncustomer_id                    b0830fb4747a6c6d20dea0b8c802d7ef   \norder_status                                          delivered   \norder_purchase_timestamp                    2018-07-24 20:41:37   \norder_approved_at                           2018-07-26 03:24:27   \norder_delivered_carrier_date                2018-07-26 14:31:00   \norder_delivered_customer_date               2018-08-07 15:27:45   \norder_estimated_delivery_date               2018-08-13 00:00:00   \n\n                                                              2  \norder_id                       47770eb9100c2d0c44946d9cf07ec65d  \ncustomer_id                    41ce2a54c0b03bf3443c3d931a367089  \norder_status                                          delivered  \norder_purchase_timestamp                    2018-08-08 08:38:49  \norder_approved_at                           2018-08-08 08:55:23  \norder_delivered_carrier_date                2018-08-08 13:50:00  \norder_delivered_customer_date               2018-08-17 18:06:29  \norder_estimated_delivery_date               2018-09-04 00:00:00  ",
      "text/html": "<div>\n<style scoped>\n    .dataframe tbody tr th:only-of-type {\n        vertical-align: middle;\n    }\n\n    .dataframe tbody tr th {\n        vertical-align: top;\n    }\n\n    .dataframe thead th {\n        text-align: right;\n    }\n</style>\n<table border=\"1\" class=\"dataframe\">\n  <thead>\n    <tr style=\"text-align: right;\">\n      <th></th>\n      <th>0</th>\n      <th>1</th>\n      <th>2</th>\n    </tr>\n  </thead>\n  <tbody>\n    <tr>\n      <td>order_id</td>\n      <td>e481f51cbdc54678b7cc49136f2d6af7</td>\n      <td>53cdb2fc8bc7dce0b6741e2150273451</td>\n      <td>47770eb9100c2d0c44946d9cf07ec65d</td>\n    </tr>\n    <tr>\n      <td>customer_id</td>\n      <td>9ef432eb6251297304e76186b10a928d</td>\n      <td>b0830fb4747a6c6d20dea0b8c802d7ef</td>\n      <td>41ce2a54c0b03bf3443c3d931a367089</td>\n    </tr>\n    <tr>\n      <td>order_status</td>\n      <td>delivered</td>\n      <td>delivered</td>\n      <td>delivered</td>\n    </tr>\n    <tr>\n      <td>order_purchase_timestamp</td>\n      <td>2017-10-02 10:56:33</td>\n      <td>2018-07-24 20:41:37</td>\n      <td>2018-08-08 08:38:49</td>\n    </tr>\n    <tr>\n      <td>order_approved_at</td>\n      <td>2017-10-02 11:07:15</td>\n      <td>2018-07-26 03:24:27</td>\n      <td>2018-08-08 08:55:23</td>\n    </tr>\n    <tr>\n      <td>order_delivered_carrier_date</td>\n      <td>2017-10-04 19:55:00</td>\n      <td>2018-07-26 14:31:00</td>\n      <td>2018-08-08 13:50:00</td>\n    </tr>\n    <tr>\n      <td>order_delivered_customer_date</td>\n      <td>2017-10-10 21:25:13</td>\n      <td>2018-08-07 15:27:45</td>\n      <td>2018-08-17 18:06:29</td>\n    </tr>\n    <tr>\n      <td>order_estimated_delivery_date</td>\n      <td>2017-10-18 00:00:00</td>\n      <td>2018-08-13 00:00:00</td>\n      <td>2018-09-04 00:00:00</td>\n    </tr>\n  </tbody>\n</table>\n</div>"
     },
     "metadata": {},
     "execution_count": 9
    }
   ],
   "source": [
    "orders_.head(3).T"
   ]
  },
  {
   "cell_type": "markdown",
   "metadata": {},
   "source": [
    "#### Order Payments Dataset"
   ]
  },
  {
   "cell_type": "code",
   "execution_count": 10,
   "metadata": {},
   "outputs": [],
   "source": [
    "order_payments_ = pd.read_csv(file_dir + 'olist_order_payments_dataset.csv')"
   ]
  },
  {
   "cell_type": "code",
   "execution_count": 11,
   "metadata": {},
   "outputs": [
    {
     "output_type": "stream",
     "name": "stdout",
     "text": "<class 'pandas.core.frame.DataFrame'>\nRangeIndex: 103886 entries, 0 to 103885\nColumns: 5 entries, order_id to payment_value\ndtypes: float64(1), int64(2), object(2)\nmemory usage: 4.0+ MB\n"
    }
   ],
   "source": [
    "order_payments_.info(verbose=False)"
   ]
  },
  {
   "cell_type": "code",
   "execution_count": 12,
   "metadata": {},
   "outputs": [
    {
     "output_type": "execute_result",
     "data": {
      "text/plain": "                                                     0  \\\norder_id              b81ef226f3fe1789b1e8b2acac839d17   \npayment_sequential                                   1   \npayment_type                               credit_card   \npayment_installments                                 8   \npayment_value                                    99.33   \n\n                                                     1  \\\norder_id              a9810da82917af2d9aefd1278f1dcfa0   \npayment_sequential                                   1   \npayment_type                               credit_card   \npayment_installments                                 1   \npayment_value                                    24.39   \n\n                                                     2  \norder_id              25e8ea4e93396b6fa0d3dd708e76c1bd  \npayment_sequential                                   1  \npayment_type                               credit_card  \npayment_installments                                 1  \npayment_value                                    65.71  ",
      "text/html": "<div>\n<style scoped>\n    .dataframe tbody tr th:only-of-type {\n        vertical-align: middle;\n    }\n\n    .dataframe tbody tr th {\n        vertical-align: top;\n    }\n\n    .dataframe thead th {\n        text-align: right;\n    }\n</style>\n<table border=\"1\" class=\"dataframe\">\n  <thead>\n    <tr style=\"text-align: right;\">\n      <th></th>\n      <th>0</th>\n      <th>1</th>\n      <th>2</th>\n    </tr>\n  </thead>\n  <tbody>\n    <tr>\n      <td>order_id</td>\n      <td>b81ef226f3fe1789b1e8b2acac839d17</td>\n      <td>a9810da82917af2d9aefd1278f1dcfa0</td>\n      <td>25e8ea4e93396b6fa0d3dd708e76c1bd</td>\n    </tr>\n    <tr>\n      <td>payment_sequential</td>\n      <td>1</td>\n      <td>1</td>\n      <td>1</td>\n    </tr>\n    <tr>\n      <td>payment_type</td>\n      <td>credit_card</td>\n      <td>credit_card</td>\n      <td>credit_card</td>\n    </tr>\n    <tr>\n      <td>payment_installments</td>\n      <td>8</td>\n      <td>1</td>\n      <td>1</td>\n    </tr>\n    <tr>\n      <td>payment_value</td>\n      <td>99.33</td>\n      <td>24.39</td>\n      <td>65.71</td>\n    </tr>\n  </tbody>\n</table>\n</div>"
     },
     "metadata": {},
     "execution_count": 12
    }
   ],
   "source": [
    "order_payments_.head(3).T"
   ]
  },
  {
   "cell_type": "markdown",
   "metadata": {},
   "source": [
    "#### Order Items Dataset"
   ]
  },
  {
   "cell_type": "code",
   "execution_count": 13,
   "metadata": {},
   "outputs": [],
   "source": [
    "order_items_ = pd.read_csv(file_dir + 'olist_order_items_dataset.csv')"
   ]
  },
  {
   "cell_type": "code",
   "execution_count": 14,
   "metadata": {},
   "outputs": [
    {
     "output_type": "stream",
     "name": "stdout",
     "text": "<class 'pandas.core.frame.DataFrame'>\nRangeIndex: 112650 entries, 0 to 112649\nColumns: 7 entries, order_id to freight_value\ndtypes: float64(2), int64(1), object(4)\nmemory usage: 6.0+ MB\n"
    }
   ],
   "source": [
    "order_items_.info(verbose=False)"
   ]
  },
  {
   "cell_type": "code",
   "execution_count": 15,
   "metadata": {},
   "outputs": [
    {
     "output_type": "execute_result",
     "data": {
      "text/plain": "                                                    0  \\\norder_id             00010242fe8c5a6d1ba2dd792cb16214   \norder_item_id                                       1   \nproduct_id           4244733e06e7ecb4970a6e2683c13e61   \nseller_id            48436dade18ac8b2bce089ec2a041202   \nshipping_limit_date               2017-09-19 09:45:35   \nprice                                            58.9   \nfreight_value                                   13.29   \n\n                                                    1  \\\norder_id             00018f77f2f0320c557190d7a144bdd3   \norder_item_id                                       1   \nproduct_id           e5f2d52b802189ee658865ca93d83a8f   \nseller_id            dd7ddc04e1b6c2c614352b383efe2d36   \nshipping_limit_date               2017-05-03 11:05:13   \nprice                                           239.9   \nfreight_value                                   19.93   \n\n                                                    2  \norder_id             000229ec398224ef6ca0657da4fc703e  \norder_item_id                                       1  \nproduct_id           c777355d18b72b67abbeef9df44fd0fd  \nseller_id            5b51032eddd242adc84c38acab88f23d  \nshipping_limit_date               2018-01-18 14:48:30  \nprice                                             199  \nfreight_value                                   17.87  ",
      "text/html": "<div>\n<style scoped>\n    .dataframe tbody tr th:only-of-type {\n        vertical-align: middle;\n    }\n\n    .dataframe tbody tr th {\n        vertical-align: top;\n    }\n\n    .dataframe thead th {\n        text-align: right;\n    }\n</style>\n<table border=\"1\" class=\"dataframe\">\n  <thead>\n    <tr style=\"text-align: right;\">\n      <th></th>\n      <th>0</th>\n      <th>1</th>\n      <th>2</th>\n    </tr>\n  </thead>\n  <tbody>\n    <tr>\n      <td>order_id</td>\n      <td>00010242fe8c5a6d1ba2dd792cb16214</td>\n      <td>00018f77f2f0320c557190d7a144bdd3</td>\n      <td>000229ec398224ef6ca0657da4fc703e</td>\n    </tr>\n    <tr>\n      <td>order_item_id</td>\n      <td>1</td>\n      <td>1</td>\n      <td>1</td>\n    </tr>\n    <tr>\n      <td>product_id</td>\n      <td>4244733e06e7ecb4970a6e2683c13e61</td>\n      <td>e5f2d52b802189ee658865ca93d83a8f</td>\n      <td>c777355d18b72b67abbeef9df44fd0fd</td>\n    </tr>\n    <tr>\n      <td>seller_id</td>\n      <td>48436dade18ac8b2bce089ec2a041202</td>\n      <td>dd7ddc04e1b6c2c614352b383efe2d36</td>\n      <td>5b51032eddd242adc84c38acab88f23d</td>\n    </tr>\n    <tr>\n      <td>shipping_limit_date</td>\n      <td>2017-09-19 09:45:35</td>\n      <td>2017-05-03 11:05:13</td>\n      <td>2018-01-18 14:48:30</td>\n    </tr>\n    <tr>\n      <td>price</td>\n      <td>58.9</td>\n      <td>239.9</td>\n      <td>199</td>\n    </tr>\n    <tr>\n      <td>freight_value</td>\n      <td>13.29</td>\n      <td>19.93</td>\n      <td>17.87</td>\n    </tr>\n  </tbody>\n</table>\n</div>"
     },
     "metadata": {},
     "execution_count": 15
    }
   ],
   "source": [
    "order_items_.head(3).T"
   ]
  },
  {
   "cell_type": "markdown",
   "metadata": {},
   "source": [
    "#### Products Dataset "
   ]
  },
  {
   "cell_type": "code",
   "execution_count": 16,
   "metadata": {},
   "outputs": [],
   "source": [
    "products_ = pd.read_csv(file_dir + 'olist_products_dataset.csv')"
   ]
  },
  {
   "cell_type": "code",
   "execution_count": 17,
   "metadata": {},
   "outputs": [
    {
     "output_type": "stream",
     "name": "stdout",
     "text": "<class 'pandas.core.frame.DataFrame'>\nRangeIndex: 32951 entries, 0 to 32950\nColumns: 9 entries, product_id to product_width_cm\ndtypes: float64(7), object(2)\nmemory usage: 2.3+ MB\n"
    }
   ],
   "source": [
    "products_.info(verbose=False)"
   ]
  },
  {
   "cell_type": "code",
   "execution_count": 18,
   "metadata": {},
   "outputs": [
    {
     "output_type": "execute_result",
     "data": {
      "text/plain": "                                                           0  \\\nproduct_id                  1e9e8ef04dbcff4541ed26657ea517e5   \nproduct_category_name                             perfumaria   \nproduct_name_lenght                                       40   \nproduct_description_lenght                               287   \nproduct_photos_qty                                         1   \nproduct_weight_g                                         225   \nproduct_length_cm                                         16   \nproduct_height_cm                                         10   \nproduct_width_cm                                          14   \n\n                                                           1  \\\nproduct_id                  3aa071139cb16b67ca9e5dea641aaa2f   \nproduct_category_name                                  artes   \nproduct_name_lenght                                       44   \nproduct_description_lenght                               276   \nproduct_photos_qty                                         1   \nproduct_weight_g                                        1000   \nproduct_length_cm                                         30   \nproduct_height_cm                                         18   \nproduct_width_cm                                          20   \n\n                                                           2  \nproduct_id                  96bd76ec8810374ed1b65e291975717f  \nproduct_category_name                          esporte_lazer  \nproduct_name_lenght                                       46  \nproduct_description_lenght                               250  \nproduct_photos_qty                                         1  \nproduct_weight_g                                         154  \nproduct_length_cm                                         18  \nproduct_height_cm                                          9  \nproduct_width_cm                                          15  ",
      "text/html": "<div>\n<style scoped>\n    .dataframe tbody tr th:only-of-type {\n        vertical-align: middle;\n    }\n\n    .dataframe tbody tr th {\n        vertical-align: top;\n    }\n\n    .dataframe thead th {\n        text-align: right;\n    }\n</style>\n<table border=\"1\" class=\"dataframe\">\n  <thead>\n    <tr style=\"text-align: right;\">\n      <th></th>\n      <th>0</th>\n      <th>1</th>\n      <th>2</th>\n    </tr>\n  </thead>\n  <tbody>\n    <tr>\n      <td>product_id</td>\n      <td>1e9e8ef04dbcff4541ed26657ea517e5</td>\n      <td>3aa071139cb16b67ca9e5dea641aaa2f</td>\n      <td>96bd76ec8810374ed1b65e291975717f</td>\n    </tr>\n    <tr>\n      <td>product_category_name</td>\n      <td>perfumaria</td>\n      <td>artes</td>\n      <td>esporte_lazer</td>\n    </tr>\n    <tr>\n      <td>product_name_lenght</td>\n      <td>40</td>\n      <td>44</td>\n      <td>46</td>\n    </tr>\n    <tr>\n      <td>product_description_lenght</td>\n      <td>287</td>\n      <td>276</td>\n      <td>250</td>\n    </tr>\n    <tr>\n      <td>product_photos_qty</td>\n      <td>1</td>\n      <td>1</td>\n      <td>1</td>\n    </tr>\n    <tr>\n      <td>product_weight_g</td>\n      <td>225</td>\n      <td>1000</td>\n      <td>154</td>\n    </tr>\n    <tr>\n      <td>product_length_cm</td>\n      <td>16</td>\n      <td>30</td>\n      <td>18</td>\n    </tr>\n    <tr>\n      <td>product_height_cm</td>\n      <td>10</td>\n      <td>18</td>\n      <td>9</td>\n    </tr>\n    <tr>\n      <td>product_width_cm</td>\n      <td>14</td>\n      <td>20</td>\n      <td>15</td>\n    </tr>\n  </tbody>\n</table>\n</div>"
     },
     "metadata": {},
     "execution_count": 18
    }
   ],
   "source": [
    "products_.head(3).T"
   ]
  },
  {
   "cell_type": "markdown",
   "metadata": {},
   "source": [
    "#### Reviews Dataset"
   ]
  },
  {
   "cell_type": "code",
   "execution_count": 19,
   "metadata": {},
   "outputs": [],
   "source": [
    "reviews_ = pd.read_csv(file_dir + 'olist_order_reviews_dataset.csv')"
   ]
  },
  {
   "cell_type": "code",
   "execution_count": 20,
   "metadata": {},
   "outputs": [
    {
     "output_type": "stream",
     "name": "stdout",
     "text": "<class 'pandas.core.frame.DataFrame'>\nRangeIndex: 100000 entries, 0 to 99999\nColumns: 7 entries, review_id to review_answer_timestamp\ndtypes: int64(1), object(6)\nmemory usage: 5.3+ MB\n"
    }
   ],
   "source": [
    "reviews_.info(verbose=False)"
   ]
  },
  {
   "cell_type": "code",
   "execution_count": 21,
   "metadata": {},
   "outputs": [
    {
     "output_type": "execute_result",
     "data": {
      "text/plain": "                                                        0  \\\nreview_id                7bc2406110b926393aa56f80a40eba40   \norder_id                 73fc7af87114b39712e6da79b0a377eb   \nreview_score                                            4   \nreview_comment_title                                  NaN   \nreview_comment_message                                NaN   \nreview_creation_date                  2018-01-18 00:00:00   \nreview_answer_timestamp               2018-01-18 21:46:59   \n\n                                                        1  \\\nreview_id                80e641a11e56f04c1ad469d5645fdfde   \norder_id                 a548910a1c6147796b98fdf73dbeba33   \nreview_score                                            5   \nreview_comment_title                                  NaN   \nreview_comment_message                                NaN   \nreview_creation_date                  2018-03-10 00:00:00   \nreview_answer_timestamp               2018-03-11 03:05:13   \n\n                                                        2  \nreview_id                228ce5500dc1d8e020d8d1322874b6f0  \norder_id                 f9e4b658b201a9f2ecdecbb34bed034b  \nreview_score                                            5  \nreview_comment_title                                  NaN  \nreview_comment_message                                NaN  \nreview_creation_date                  2018-02-17 00:00:00  \nreview_answer_timestamp               2018-02-18 14:36:24  ",
      "text/html": "<div>\n<style scoped>\n    .dataframe tbody tr th:only-of-type {\n        vertical-align: middle;\n    }\n\n    .dataframe tbody tr th {\n        vertical-align: top;\n    }\n\n    .dataframe thead th {\n        text-align: right;\n    }\n</style>\n<table border=\"1\" class=\"dataframe\">\n  <thead>\n    <tr style=\"text-align: right;\">\n      <th></th>\n      <th>0</th>\n      <th>1</th>\n      <th>2</th>\n    </tr>\n  </thead>\n  <tbody>\n    <tr>\n      <td>review_id</td>\n      <td>7bc2406110b926393aa56f80a40eba40</td>\n      <td>80e641a11e56f04c1ad469d5645fdfde</td>\n      <td>228ce5500dc1d8e020d8d1322874b6f0</td>\n    </tr>\n    <tr>\n      <td>order_id</td>\n      <td>73fc7af87114b39712e6da79b0a377eb</td>\n      <td>a548910a1c6147796b98fdf73dbeba33</td>\n      <td>f9e4b658b201a9f2ecdecbb34bed034b</td>\n    </tr>\n    <tr>\n      <td>review_score</td>\n      <td>4</td>\n      <td>5</td>\n      <td>5</td>\n    </tr>\n    <tr>\n      <td>review_comment_title</td>\n      <td>NaN</td>\n      <td>NaN</td>\n      <td>NaN</td>\n    </tr>\n    <tr>\n      <td>review_comment_message</td>\n      <td>NaN</td>\n      <td>NaN</td>\n      <td>NaN</td>\n    </tr>\n    <tr>\n      <td>review_creation_date</td>\n      <td>2018-01-18 00:00:00</td>\n      <td>2018-03-10 00:00:00</td>\n      <td>2018-02-17 00:00:00</td>\n    </tr>\n    <tr>\n      <td>review_answer_timestamp</td>\n      <td>2018-01-18 21:46:59</td>\n      <td>2018-03-11 03:05:13</td>\n      <td>2018-02-18 14:36:24</td>\n    </tr>\n  </tbody>\n</table>\n</div>"
     },
     "metadata": {},
     "execution_count": 21
    }
   ],
   "source": [
    "reviews_.head(3).T"
   ]
  },
  {
   "cell_type": "markdown",
   "metadata": {},
   "source": [
    "## Complete Customer DataFrame Generation (including EDA)"
   ]
  },
  {
   "cell_type": "markdown",
   "metadata": {},
   "source": [
    "Una vez cargados todos los Datasets, vamos a construir un único DataFrame de trabajo que contenga todos los datos. \n",
    "\n",
    "Para ello, **es importante validar la estructura de los Joins y el número de registros en cada una de las tablas**."
   ]
  },
  {
   "cell_type": "code",
   "execution_count": 22,
   "metadata": {},
   "outputs": [
    {
     "output_type": "stream",
     "name": "stdout",
     "text": "Customers [99441, 5]\nOrders [99441, 8]\nPayments [103886, 5]\nOrder Items [112650, 7]\nProducts [32951, 9]\nReviews [100000, 7]\n"
    }
   ],
   "source": [
    "datasets = {\n",
    "    'Customers': customers_,\n",
    "    'Orders': orders_,\n",
    "    'Payments': order_payments_,\n",
    "    'Order Items': order_items_,\n",
    "    'Products': products_,\n",
    "    'Reviews': reviews_\n",
    "}\n",
    "\n",
    "for x, y in datasets.items():\n",
    "    print(f'{x}', (list(y.shape)))"
   ]
  },
  {
   "cell_type": "markdown",
   "metadata": {},
   "source": [
    "#### Assessing Primary Keys"
   ]
  },
  {
   "cell_type": "code",
   "execution_count": 26,
   "metadata": {},
   "outputs": [
    {
     "output_type": "execute_result",
     "data": {
      "text/plain": "99441"
     },
     "metadata": {},
     "execution_count": 26
    }
   ],
   "source": [
    "customers_['customer_id'].nunique()"
   ]
  },
  {
   "cell_type": "code",
   "execution_count": 27,
   "metadata": {},
   "outputs": [
    {
     "output_type": "execute_result",
     "data": {
      "text/plain": "96096"
     },
     "metadata": {},
     "execution_count": 27
    }
   ],
   "source": [
    "customers_['customer_unique_id'].nunique()"
   ]
  },
  {
   "cell_type": "code",
   "execution_count": 28,
   "metadata": {},
   "outputs": [
    {
     "output_type": "execute_result",
     "data": {
      "text/plain": "99441"
     },
     "metadata": {},
     "execution_count": 28
    }
   ],
   "source": [
    "orders_['order_id'].nunique()"
   ]
  },
  {
   "cell_type": "code",
   "execution_count": 29,
   "metadata": {},
   "outputs": [
    {
     "output_type": "execute_result",
     "data": {
      "text/plain": "99441"
     },
     "metadata": {},
     "execution_count": 29
    }
   ],
   "source": [
    "orders_['customer_id'].nunique()"
   ]
  },
  {
   "cell_type": "code",
   "execution_count": 30,
   "metadata": {},
   "outputs": [
    {
     "output_type": "execute_result",
     "data": {
      "text/plain": "99440"
     },
     "metadata": {},
     "execution_count": 30
    }
   ],
   "source": [
    "order_payments_['order_id'].nunique()"
   ]
  },
  {
   "cell_type": "code",
   "execution_count": 31,
   "metadata": {},
   "outputs": [
    {
     "output_type": "execute_result",
     "data": {
      "text/plain": "99440"
     },
     "metadata": {},
     "execution_count": 31
    }
   ],
   "source": [
    "order_payments_['order_id'].nunique()"
   ]
  },
  {
   "cell_type": "code",
   "execution_count": 32,
   "metadata": {},
   "outputs": [
    {
     "output_type": "execute_result",
     "data": {
      "text/plain": "                                order_id  payment_sequential payment_type  \\\n39108   fa65dad1b0e818e3ccc5cb0e39231352                  29      voucher   \n39111   fa65dad1b0e818e3ccc5cb0e39231352                  28      voucher   \n4885    fa65dad1b0e818e3ccc5cb0e39231352                  27      voucher   \n32393   ccf804e764ed5650cd8759557269dc13                  26      voucher   \n79587   fa65dad1b0e818e3ccc5cb0e39231352                  26      voucher   \n...                                  ...                 ...          ...   \n35372   329954a78d93c0af4e24aad8677ba9bb                   1  credit_card   \n35371   73130e7702a070351d67c7859ed9e12a                   1  credit_card   \n35370   fcdd373db44c238886a0ecf5ec332b95                   1  credit_card   \n35369   62529dde2b3d81415417822b4bc91581                   1  credit_card   \n103885  28bbae6599b09d39ca406b747b6632b1                   1       boleto   \n\n        payment_installments  payment_value  \n39108                      1          19.26  \n39111                      1          29.05  \n4885                       1          66.02  \n32393                      1          23.10  \n79587                      1          28.27  \n...                      ...            ...  \n35372                      1          83.41  \n35371                      2          60.43  \n35370                      4         235.48  \n35369                      5          51.04  \n103885                     1         191.58  \n\n[103886 rows x 5 columns]",
      "text/html": "<div>\n<style scoped>\n    .dataframe tbody tr th:only-of-type {\n        vertical-align: middle;\n    }\n\n    .dataframe tbody tr th {\n        vertical-align: top;\n    }\n\n    .dataframe thead th {\n        text-align: right;\n    }\n</style>\n<table border=\"1\" class=\"dataframe\">\n  <thead>\n    <tr style=\"text-align: right;\">\n      <th></th>\n      <th>order_id</th>\n      <th>payment_sequential</th>\n      <th>payment_type</th>\n      <th>payment_installments</th>\n      <th>payment_value</th>\n    </tr>\n  </thead>\n  <tbody>\n    <tr>\n      <td>39108</td>\n      <td>fa65dad1b0e818e3ccc5cb0e39231352</td>\n      <td>29</td>\n      <td>voucher</td>\n      <td>1</td>\n      <td>19.26</td>\n    </tr>\n    <tr>\n      <td>39111</td>\n      <td>fa65dad1b0e818e3ccc5cb0e39231352</td>\n      <td>28</td>\n      <td>voucher</td>\n      <td>1</td>\n      <td>29.05</td>\n    </tr>\n    <tr>\n      <td>4885</td>\n      <td>fa65dad1b0e818e3ccc5cb0e39231352</td>\n      <td>27</td>\n      <td>voucher</td>\n      <td>1</td>\n      <td>66.02</td>\n    </tr>\n    <tr>\n      <td>32393</td>\n      <td>ccf804e764ed5650cd8759557269dc13</td>\n      <td>26</td>\n      <td>voucher</td>\n      <td>1</td>\n      <td>23.10</td>\n    </tr>\n    <tr>\n      <td>79587</td>\n      <td>fa65dad1b0e818e3ccc5cb0e39231352</td>\n      <td>26</td>\n      <td>voucher</td>\n      <td>1</td>\n      <td>28.27</td>\n    </tr>\n    <tr>\n      <td>...</td>\n      <td>...</td>\n      <td>...</td>\n      <td>...</td>\n      <td>...</td>\n      <td>...</td>\n    </tr>\n    <tr>\n      <td>35372</td>\n      <td>329954a78d93c0af4e24aad8677ba9bb</td>\n      <td>1</td>\n      <td>credit_card</td>\n      <td>1</td>\n      <td>83.41</td>\n    </tr>\n    <tr>\n      <td>35371</td>\n      <td>73130e7702a070351d67c7859ed9e12a</td>\n      <td>1</td>\n      <td>credit_card</td>\n      <td>2</td>\n      <td>60.43</td>\n    </tr>\n    <tr>\n      <td>35370</td>\n      <td>fcdd373db44c238886a0ecf5ec332b95</td>\n      <td>1</td>\n      <td>credit_card</td>\n      <td>4</td>\n      <td>235.48</td>\n    </tr>\n    <tr>\n      <td>35369</td>\n      <td>62529dde2b3d81415417822b4bc91581</td>\n      <td>1</td>\n      <td>credit_card</td>\n      <td>5</td>\n      <td>51.04</td>\n    </tr>\n    <tr>\n      <td>103885</td>\n      <td>28bbae6599b09d39ca406b747b6632b1</td>\n      <td>1</td>\n      <td>boleto</td>\n      <td>1</td>\n      <td>191.58</td>\n    </tr>\n  </tbody>\n</table>\n<p>103886 rows × 5 columns</p>\n</div>"
     },
     "metadata": {},
     "execution_count": 32
    }
   ],
   "source": [
    "order_payments_.sort_values(by='payment_sequential', ascending=False)"
   ]
  },
  {
   "cell_type": "code",
   "execution_count": 33,
   "metadata": {},
   "outputs": [
    {
     "output_type": "execute_result",
     "data": {
      "text/plain": "21"
     },
     "metadata": {},
     "execution_count": 33
    }
   ],
   "source": [
    "order_items_['order_item_id'].nunique()"
   ]
  },
  {
   "cell_type": "code",
   "execution_count": 47,
   "metadata": {},
   "outputs": [
    {
     "output_type": "execute_result",
     "data": {
      "text/plain": "98666"
     },
     "metadata": {},
     "execution_count": 47
    }
   ],
   "source": [
    "order_items_['order_id'].nunique()"
   ]
  },
  {
   "cell_type": "code",
   "execution_count": 25,
   "metadata": {},
   "outputs": [
    {
     "output_type": "execute_result",
     "data": {
      "text/plain": "32951"
     },
     "metadata": {},
     "execution_count": 25
    }
   ],
   "source": [
    "order_items_['product_id'].nunique()"
   ]
  },
  {
   "cell_type": "code",
   "execution_count": 23,
   "metadata": {},
   "outputs": [
    {
     "output_type": "execute_result",
     "data": {
      "text/plain": "32951"
     },
     "metadata": {},
     "execution_count": 23
    }
   ],
   "source": [
    "products_['product_id'].nunique()"
   ]
  },
  {
   "cell_type": "code",
   "execution_count": 35,
   "metadata": {},
   "outputs": [
    {
     "output_type": "execute_result",
     "data": {
      "text/plain": "99441"
     },
     "metadata": {},
     "execution_count": 35
    }
   ],
   "source": [
    "reviews_['order_id'].nunique()"
   ]
  },
  {
   "cell_type": "code",
   "execution_count": 36,
   "metadata": {},
   "outputs": [
    {
     "output_type": "execute_result",
     "data": {
      "text/plain": "99173"
     },
     "metadata": {},
     "execution_count": 36
    }
   ],
   "source": [
    "reviews_['review_id'].nunique()"
   ]
  },
  {
   "cell_type": "markdown",
   "metadata": {},
   "source": [
    "### Explicit Approximation"
   ]
  },
  {
   "cell_type": "markdown",
   "metadata": {},
   "source": [
    "#### Customers + Orders + Order Items"
   ]
  },
  {
   "cell_type": "markdown",
   "metadata": {},
   "source": [
    "Vamos a realizar la construcción del DataFrame global y después "
   ]
  },
  {
   "cell_type": "code",
   "execution_count": 115,
   "metadata": {},
   "outputs": [],
   "source": [
    "sold_products_df = customers_ \\\n",
    "                .merge(orders_, on='customer_id') \\\n",
    "                .merge(order_items_, on='order_id') \\\n",
    "                .merge(products_, on='product_id') \\\n",
    "                .merge(reviews_, on='order_id')"
   ]
  },
  {
   "cell_type": "code",
   "execution_count": 116,
   "metadata": {},
   "outputs": [
    {
     "output_type": "stream",
     "name": "stdout",
     "text": "<class 'pandas.core.frame.DataFrame'>\nInt64Index: 113322 entries, 0 to 113321\nData columns (total 32 columns):\ncustomer_id                      113322 non-null object\ncustomer_unique_id               113322 non-null object\ncustomer_zip_code_prefix         113322 non-null int64\ncustomer_city                    113322 non-null object\ncustomer_state                   113322 non-null object\norder_id                         113322 non-null object\norder_status                     113322 non-null object\norder_purchase_timestamp         113322 non-null object\norder_approved_at                113307 non-null object\norder_delivered_carrier_date     112119 non-null object\norder_delivered_customer_date    110847 non-null object\norder_estimated_delivery_date    113322 non-null object\norder_item_id                    113322 non-null int64\nproduct_id                       113322 non-null object\nseller_id                        113322 non-null object\nshipping_limit_date              113322 non-null object\nprice                            113322 non-null float64\nfreight_value                    113322 non-null float64\nproduct_category_name            111710 non-null object\nproduct_name_lenght              111710 non-null float64\nproduct_description_lenght       111710 non-null float64\nproduct_photos_qty               111710 non-null float64\nproduct_weight_g                 113304 non-null float64\nproduct_length_cm                113304 non-null float64\nproduct_height_cm                113304 non-null float64\nproduct_width_cm                 113304 non-null float64\nreview_id                        113322 non-null object\nreview_score                     113322 non-null int64\nreview_comment_title             13622 non-null object\nreview_comment_message           48592 non-null object\nreview_creation_date             113322 non-null object\nreview_answer_timestamp          113322 non-null object\ndtypes: float64(9), int64(3), object(20)\nmemory usage: 28.5+ MB\n"
    }
   ],
   "source": [
    "sold_products_df.info(verbose=True)"
   ]
  },
  {
   "cell_type": "code",
   "execution_count": 117,
   "metadata": {},
   "outputs": [],
   "source": [
    "keep_columns = ['customer_id', 'order_id', 'product_id', 'product_category_name', 'review_score']"
   ]
  },
  {
   "cell_type": "code",
   "execution_count": 99,
   "metadata": {},
   "outputs": [],
   "source": [
    "reduced_sold_products_df = sold_products_df[keep_columns]"
   ]
  },
  {
   "cell_type": "code",
   "execution_count": 100,
   "metadata": {},
   "outputs": [
    {
     "output_type": "stream",
     "name": "stdout",
     "text": "<class 'pandas.core.frame.DataFrame'>\nInt64Index: 113322 entries, 0 to 113321\nData columns (total 4 columns):\ncustomer_id     113322 non-null object\norder_id        113322 non-null object\nproduct_id      113322 non-null object\nreview_score    113322 non-null int64\ndtypes: int64(1), object(3)\nmemory usage: 4.3+ MB\n"
    }
   ],
   "source": [
    "reduced_sold_products_df.info()"
   ]
  },
  {
   "cell_type": "code",
   "execution_count": 101,
   "metadata": {},
   "outputs": [],
   "source": [
    "customer_product_count = reduced_sold_products_df.groupby('customer_id').agg({\n",
    "    'product_category_name': 'nunique'\n",
    "})"
   ]
  },
  {
   "cell_type": "code",
   "execution_count": 102,
   "metadata": {},
   "outputs": [],
   "source": [
    "customer_product_count.columns = ['unique_products']"
   ]
  },
  {
   "cell_type": "code",
   "execution_count": 103,
   "metadata": {},
   "outputs": [
    {
     "output_type": "execute_result",
     "data": {
      "text/plain": "                                  unique_products\ncustomer_id                                      \n00012a2ce6f8dcda20d059ce98491703                1\n000161a058600d5901f007fab4c27140                1\n0001fd6190edaaf884bcaf3d49edf079                1\n0002414f95344307404f0ace7a26f1d5                1\n000379cdec625522490c315e70c7a9fb                1\n...                                           ...\nfffcb937e9dd47a13f05ecb8290f4d3e                1\nfffecc9f79fd8c764f843e9951b11341                1\nfffeda5b6d849fbd39689bb92087f431                1\nffff42319e9b2d713724ae527742af25                1\nffffa3172527f765de70084a7e53aae8                1\n\n[98666 rows x 1 columns]",
      "text/html": "<div>\n<style scoped>\n    .dataframe tbody tr th:only-of-type {\n        vertical-align: middle;\n    }\n\n    .dataframe tbody tr th {\n        vertical-align: top;\n    }\n\n    .dataframe thead th {\n        text-align: right;\n    }\n</style>\n<table border=\"1\" class=\"dataframe\">\n  <thead>\n    <tr style=\"text-align: right;\">\n      <th></th>\n      <th>unique_products</th>\n    </tr>\n    <tr>\n      <th>customer_id</th>\n      <th></th>\n    </tr>\n  </thead>\n  <tbody>\n    <tr>\n      <td>00012a2ce6f8dcda20d059ce98491703</td>\n      <td>1</td>\n    </tr>\n    <tr>\n      <td>000161a058600d5901f007fab4c27140</td>\n      <td>1</td>\n    </tr>\n    <tr>\n      <td>0001fd6190edaaf884bcaf3d49edf079</td>\n      <td>1</td>\n    </tr>\n    <tr>\n      <td>0002414f95344307404f0ace7a26f1d5</td>\n      <td>1</td>\n    </tr>\n    <tr>\n      <td>000379cdec625522490c315e70c7a9fb</td>\n      <td>1</td>\n    </tr>\n    <tr>\n      <td>...</td>\n      <td>...</td>\n    </tr>\n    <tr>\n      <td>fffcb937e9dd47a13f05ecb8290f4d3e</td>\n      <td>1</td>\n    </tr>\n    <tr>\n      <td>fffecc9f79fd8c764f843e9951b11341</td>\n      <td>1</td>\n    </tr>\n    <tr>\n      <td>fffeda5b6d849fbd39689bb92087f431</td>\n      <td>1</td>\n    </tr>\n    <tr>\n      <td>ffff42319e9b2d713724ae527742af25</td>\n      <td>1</td>\n    </tr>\n    <tr>\n      <td>ffffa3172527f765de70084a7e53aae8</td>\n      <td>1</td>\n    </tr>\n  </tbody>\n</table>\n<p>98666 rows × 1 columns</p>\n</div>"
     },
     "metadata": {},
     "execution_count": 103
    }
   ],
   "source": [
    "customer_product_count"
   ]
  },
  {
   "cell_type": "code",
   "execution_count": 104,
   "metadata": {},
   "outputs": [
    {
     "output_type": "execute_result",
     "data": {
      "text/plain": "       unique_products\ncount     98666.000000\nmean          1.038098\nstd           0.226456\nmin           1.000000\n25%           1.000000\n50%           1.000000\n75%           1.000000\nmax           8.000000",
      "text/html": "<div>\n<style scoped>\n    .dataframe tbody tr th:only-of-type {\n        vertical-align: middle;\n    }\n\n    .dataframe tbody tr th {\n        vertical-align: top;\n    }\n\n    .dataframe thead th {\n        text-align: right;\n    }\n</style>\n<table border=\"1\" class=\"dataframe\">\n  <thead>\n    <tr style=\"text-align: right;\">\n      <th></th>\n      <th>unique_products</th>\n    </tr>\n  </thead>\n  <tbody>\n    <tr>\n      <td>count</td>\n      <td>98666.000000</td>\n    </tr>\n    <tr>\n      <td>mean</td>\n      <td>1.038098</td>\n    </tr>\n    <tr>\n      <td>std</td>\n      <td>0.226456</td>\n    </tr>\n    <tr>\n      <td>min</td>\n      <td>1.000000</td>\n    </tr>\n    <tr>\n      <td>25%</td>\n      <td>1.000000</td>\n    </tr>\n    <tr>\n      <td>50%</td>\n      <td>1.000000</td>\n    </tr>\n    <tr>\n      <td>75%</td>\n      <td>1.000000</td>\n    </tr>\n    <tr>\n      <td>max</td>\n      <td>8.000000</td>\n    </tr>\n  </tbody>\n</table>\n</div>"
     },
     "metadata": {},
     "execution_count": 104
    }
   ],
   "source": [
    "customer_product_count.describe()"
   ]
  },
  {
   "cell_type": "code",
   "execution_count": 105,
   "metadata": {},
   "outputs": [
    {
     "output_type": "execute_result",
     "data": {
      "text/plain": "1    95430\n2     2846\n3      298\n4       70\n6       10\n5        8\n7        3\n8        1\nName: unique_products, dtype: int64"
     },
     "metadata": {},
     "execution_count": 105
    }
   ],
   "source": [
    "customer_product_count['unique_products'].value_counts()"
   ]
  },
  {
   "cell_type": "code",
   "execution_count": 106,
   "metadata": {},
   "outputs": [],
   "source": [
    "selected_customers = customer_product_count[customer_product_count['unique_products'] > 1].index.values"
   ]
  },
  {
   "cell_type": "code",
   "execution_count": 107,
   "metadata": {},
   "outputs": [
    {
     "output_type": "execute_result",
     "data": {
      "text/plain": "3236"
     },
     "metadata": {},
     "execution_count": 107
    }
   ],
   "source": [
    "len(selected_customers)"
   ]
  },
  {
   "cell_type": "code",
   "execution_count": 108,
   "metadata": {},
   "outputs": [],
   "source": [
    "selected_customers_df = reduced_sold_products_df[reduced_sold_products_df['customer_id'].isin(selected_customers)]"
   ]
  },
  {
   "cell_type": "code",
   "execution_count": 109,
   "metadata": {},
   "outputs": [
    {
     "output_type": "stream",
     "name": "stdout",
     "text": "<class 'pandas.core.frame.DataFrame'>\nInt64Index: 7871 entries, 35 to 113255\nData columns (total 4 columns):\ncustomer_id     7871 non-null object\norder_id        7871 non-null object\nproduct_id      7871 non-null object\nreview_score    7871 non-null int64\ndtypes: int64(1), object(3)\nmemory usage: 307.5+ KB\n"
    }
   ],
   "source": [
    "selected_customers_df.info()"
   ]
  },
  {
   "cell_type": "code",
   "execution_count": 110,
   "metadata": {},
   "outputs": [
    {
     "output_type": "execute_result",
     "data": {
      "text/plain": "3236"
     },
     "metadata": {},
     "execution_count": 110
    }
   ],
   "source": [
    "selected_customers_df['customer_id'].nunique()"
   ]
  },
  {
   "cell_type": "code",
   "execution_count": 113,
   "metadata": {},
   "outputs": [],
   "source": [
    "review_scores = selected_customers_df.groupby(['customer_id', 'product_id'])['review_score'].agg({'review_score': 'mean'})"
   ]
  },
  {
   "cell_type": "code",
   "execution_count": 114,
   "metadata": {},
   "outputs": [
    {
     "output_type": "execute_result",
     "data": {
      "text/plain": "customer_id  001450ebb4a77efb3d68be5f7887cb1e  \\\nproduct_id   dcb7642f668e09b75d526454940124b9   \nreview_score                              2.0   \n\ncustomer_id                                    \\\nproduct_id   dcbdf52239601eca861bf0d1aa598fab   \nreview_score                              2.0   \n\ncustomer_id  002f90a6eb386bc43bc9ba200db31a89  \\\nproduct_id   ed5f0d58e27cf65a07283c251747936f   \nreview_score                              5.0   \n\ncustomer_id                                   0031abfb953b66e998f67b09e7b11375  \nproduct_id   f5068d43799fc3243cf62b290d885d3e 286ae430a4ebbf9a6048a42f362fa322  \nreview_score                              5.0                              1.0  ",
      "text/html": "<div>\n<style scoped>\n    .dataframe tbody tr th:only-of-type {\n        vertical-align: middle;\n    }\n\n    .dataframe tbody tr th {\n        vertical-align: top;\n    }\n\n    .dataframe thead tr th {\n        text-align: left;\n    }\n</style>\n<table border=\"1\" class=\"dataframe\">\n  <thead>\n    <tr>\n      <th>customer_id</th>\n      <th colspan=\"2\" halign=\"left\">001450ebb4a77efb3d68be5f7887cb1e</th>\n      <th colspan=\"2\" halign=\"left\">002f90a6eb386bc43bc9ba200db31a89</th>\n      <th>0031abfb953b66e998f67b09e7b11375</th>\n    </tr>\n    <tr>\n      <th>product_id</th>\n      <th>dcb7642f668e09b75d526454940124b9</th>\n      <th>dcbdf52239601eca861bf0d1aa598fab</th>\n      <th>ed5f0d58e27cf65a07283c251747936f</th>\n      <th>f5068d43799fc3243cf62b290d885d3e</th>\n      <th>286ae430a4ebbf9a6048a42f362fa322</th>\n    </tr>\n  </thead>\n  <tbody>\n    <tr>\n      <td>review_score</td>\n      <td>2.0</td>\n      <td>2.0</td>\n      <td>5.0</td>\n      <td>5.0</td>\n      <td>1.0</td>\n    </tr>\n  </tbody>\n</table>\n</div>"
     },
     "metadata": {},
     "execution_count": 114
    }
   ],
   "source": [
    "review_scores.head().T"
   ]
  },
  {
   "cell_type": "code",
   "execution_count": null,
   "metadata": {},
   "outputs": [],
   "source": []
  }
 ],
 "metadata": {
  "language_info": {
   "codemirror_mode": {
    "name": "ipython",
    "version": 3
   },
   "file_extension": ".py",
   "mimetype": "text/x-python",
   "name": "python",
   "nbconvert_exporter": "python",
   "pygments_lexer": "ipython3",
   "version": "3.7.4-final"
  },
  "orig_nbformat": 2,
  "kernelspec": {
   "name": "python3",
   "display_name": "Python 3"
  }
 },
 "nbformat": 4,
 "nbformat_minor": 2
}